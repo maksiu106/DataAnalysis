{
 "cells": [
  {
   "cell_type": "markdown",
   "id": "1ece6906-8e01-4211-9f90-f5ec4f03d6ac",
   "metadata": {},
   "source": [
    "# Classification - advanced notebook\n",
    "\n",
    "Krzysztof Czarnowus, 26.11.2024\n",
    "\n",
    "used dataset: https://www.kaggle.com/datasets/team-ai/spam-text-message-classification\n",
    "\n",
    "Dataset contains messages and their classification as spam."
   ]
  },
  {
   "cell_type": "code",
   "execution_count": 179,
   "id": "c12e5bbf-c259-4cc4-b4d9-6cfacdf6592b",
   "metadata": {},
   "outputs": [],
   "source": [
    "import pandas as pd\n",
    "import numpy as np\n",
    "import matplotlib.pyplot as plt\n",
    "import string\n",
    "from sklearn.linear_model import LogisticRegression\n",
    "from sklearn.model_selection import train_test_split\n",
    "from sklearn.feature_extraction.text import TfidfVectorizer\n",
    "from sklearn.metrics import accuracy_score\n",
    "import time\n",
    "from xgboost import XGBClassifier\n",
    "from sklearn.tree import DecisionTreeClassifier\n",
    "from sklearn.ensemble import AdaBoostClassifier, RandomForestClassifier"
   ]
  },
  {
   "cell_type": "code",
   "execution_count": 180,
   "id": "f2af62e7-720c-4cc5-80e1-f4376b2e458a",
   "metadata": {},
   "outputs": [
    {
     "data": {
      "text/html": [
       "<div>\n",
       "<style scoped>\n",
       "    .dataframe tbody tr th:only-of-type {\n",
       "        vertical-align: middle;\n",
       "    }\n",
       "\n",
       "    .dataframe tbody tr th {\n",
       "        vertical-align: top;\n",
       "    }\n",
       "\n",
       "    .dataframe thead th {\n",
       "        text-align: right;\n",
       "    }\n",
       "</style>\n",
       "<table border=\"1\" class=\"dataframe\">\n",
       "  <thead>\n",
       "    <tr style=\"text-align: right;\">\n",
       "      <th></th>\n",
       "      <th>Category</th>\n",
       "      <th>Message</th>\n",
       "    </tr>\n",
       "  </thead>\n",
       "  <tbody>\n",
       "    <tr>\n",
       "      <th>0</th>\n",
       "      <td>ham</td>\n",
       "      <td>Go until jurong point, crazy.. Available only ...</td>\n",
       "    </tr>\n",
       "    <tr>\n",
       "      <th>1</th>\n",
       "      <td>ham</td>\n",
       "      <td>Ok lar... Joking wif u oni...</td>\n",
       "    </tr>\n",
       "    <tr>\n",
       "      <th>2</th>\n",
       "      <td>spam</td>\n",
       "      <td>Free entry in 2 a wkly comp to win FA Cup fina...</td>\n",
       "    </tr>\n",
       "    <tr>\n",
       "      <th>3</th>\n",
       "      <td>ham</td>\n",
       "      <td>U dun say so early hor... U c already then say...</td>\n",
       "    </tr>\n",
       "    <tr>\n",
       "      <th>4</th>\n",
       "      <td>ham</td>\n",
       "      <td>Nah I don't think he goes to usf, he lives aro...</td>\n",
       "    </tr>\n",
       "  </tbody>\n",
       "</table>\n",
       "</div>"
      ],
      "text/plain": [
       "  Category                                            Message\n",
       "0      ham  Go until jurong point, crazy.. Available only ...\n",
       "1      ham                      Ok lar... Joking wif u oni...\n",
       "2     spam  Free entry in 2 a wkly comp to win FA Cup fina...\n",
       "3      ham  U dun say so early hor... U c already then say...\n",
       "4      ham  Nah I don't think he goes to usf, he lives aro..."
      ]
     },
     "execution_count": 180,
     "metadata": {},
     "output_type": "execute_result"
    }
   ],
   "source": [
    "def remove_punctuation(text):\n",
    "    import string\n",
    "    translator = str.maketrans('', '', string.punctuation)\n",
    "    return text.translate(translator)\n",
    "\n",
    "df = pd.read_csv('spam_dataset.csv')\n",
    "df.head()"
   ]
  },
  {
   "cell_type": "markdown",
   "id": "2d907f2f-6d68-42c4-8ebd-17fd4ed329b8",
   "metadata": {},
   "source": [
    "### Preprocessing data\n",
    "\n",
    "Deleting punctuation, tokenizing words with TfidfVectorizer, which is a bit better that CountVectorizer, as it valuates frequency of the words and gives rare ones bigger importancy."
   ]
  },
  {
   "cell_type": "code",
   "execution_count": 181,
   "id": "01f7a8eb-c8d3-4e61-9750-7c85b461ee8b",
   "metadata": {},
   "outputs": [],
   "source": [
    "df['Message'] = df['Message'].apply(remove_punctuation)\n",
    "\n",
    "X = df['Message']\n",
    "y = df['Category']\n",
    "\n",
    "X_train, X_test, y_train, y_test = train_test_split(X, y, test_size=0.3, random_state=43)\n",
    "\n",
    "vectorizer = TfidfVectorizer()\n",
    "\n",
    "X_train = vectorizer.fit_transform(X_train)\n",
    "X_test = vectorizer.transform(X_test)"
   ]
  },
  {
   "cell_type": "markdown",
   "id": "dc85d693-4c9d-41a8-a094-25e580130471",
   "metadata": {},
   "source": [
    "### Using standard Logistic regression\n",
    "\n",
    "As in primary notebook."
   ]
  },
  {
   "cell_type": "code",
   "execution_count": 182,
   "id": "9402c2fa-172f-4f02-b828-892d1ea046e1",
   "metadata": {},
   "outputs": [
    {
     "name": "stdout",
     "output_type": "stream",
     "text": [
      "Using standard logistic regression - results\n",
      "\n",
      "Accuracy:  0.9635167464114832\n",
      "Time of process:  0.0006620883941650391\n"
     ]
    }
   ],
   "source": [
    "model = LogisticRegression()\n",
    "model.fit(X_train, y_train)\n",
    "\n",
    "start = time.time()\n",
    "y_exp = model.predict(X_test)\n",
    "end = time.time()\n",
    "\n",
    "time_1 = end-start\n",
    "acc_1 = accuracy_score(y_test, y_exp)\n",
    "\n",
    "print(\"Using standard logistic regression - results\\n\")\n",
    "print(\"Accuracy: \", acc_1)\n",
    "print(\"Time of process: \", time_1)"
   ]
  },
  {
   "cell_type": "markdown",
   "id": "47d9dc2b-4941-4675-8032-c0106dba43cd",
   "metadata": {},
   "source": [
    "### Visualization of most non-spam words"
   ]
  },
  {
   "cell_type": "code",
   "execution_count": 183,
   "id": "8948a05d-4ec4-4cd3-9765-2e267a24ec1a",
   "metadata": {},
   "outputs": [
    {
     "data": {
      "image/png": "[encoded data removed]",
      "text/plain": [
       "<Figure size 1200x600 with 1 Axes>"
      ]
     },
     "metadata": {},
     "output_type": "display_data"
    }
   ],
   "source": [
    "words = vectorizer.get_feature_names_out()\n",
    "val = model.coef_[0]\n",
    "\n",
    "w = np.argsort(val)[-10:]\n",
    "\n",
    "plt.figure(figsize=(12, 6))\n",
    "plt.barh(words[w], val[w])\n",
    "plt.xlabel('Value')\n",
    "plt.title('Most spam-alike words defining classification using Logistic Regression')\n",
    "\n",
    "plt.show()"
   ]
  },
  {
   "cell_type": "code",
   "execution_count": 184,
   "id": "e1a03f9f-7d10-489c-ab4d-05ddb46b97b0",
   "metadata": {
    "scrolled": true
   },
   "outputs": [
    {
     "data": {
      "image/png": "[encoded data removed]",
      "text/plain": [
       "<Figure size 1200x600 with 1 Axes>"
      ]
     },
     "metadata": {},
     "output_type": "display_data"
    }
   ],
   "source": [
    "w = np.argsort(val)[:10]\n",
    "\n",
    "plt.figure(figsize=(12, 6))\n",
    "plt.barh(words[w], val[w])\n",
    "plt.xlabel('Value')\n",
    "plt.title('Most non-spam words defining classification using Logistic Regression')\n",
    "\n",
    "plt.show()"
   ]
  },
  {
   "cell_type": "markdown",
   "id": "79efc296-2453-47f7-8690-275165b062d4",
   "metadata": {},
   "source": [
    "### Using DecisionTreeClassifier\n",
    "\n",
    "DecisionTreeClassifier is non-linear classifier."
   ]
  },
  {
   "cell_type": "code",
   "execution_count": 185,
   "id": "fab3144b-4d41-423d-a7a2-d2c1a0f850b3",
   "metadata": {
    "scrolled": true
   },
   "outputs": [
    {
     "name": "stdout",
     "output_type": "stream",
     "text": [
      "Using decision tree classifier - results\n",
      "\n",
      "Accuracy:  0.9575358851674641\n",
      "Time of process:  0.0008554458618164062\n",
      "\n",
      "Tree depth:  56\n",
      "Number of leaves:  100\n"
     ]
    }
   ],
   "source": [
    "model = DecisionTreeClassifier()\n",
    "model.fit(X_train, y_train)\n",
    "\n",
    "start = time.time()\n",
    "y_exp = model.predict(X_test)\n",
    "end = time.time()\n",
    "\n",
    "time_2 = end-start\n",
    "acc_2 = accuracy_score(y_test, y_exp)\n",
    "\n",
    "print(\"Using decision tree classifier - results\\n\")\n",
    "print(\"Accuracy: \", acc_2)\n",
    "print(\"Time of process: \", time_2)\n",
    "print(\"\\nTree depth: \", model.get_depth())\n",
    "print(\"Number of leaves: \", model.get_n_leaves())"
   ]
  },
  {
   "cell_type": "markdown",
   "id": "e45cfa97-6647-4492-94d6-fb42603eb543",
   "metadata": {},
   "source": [
    "### Checking importancy of max_depth parameter in DecisionTreeClassifier\n",
    "\n",
    "If model is over-trained, lower max_depth could show better accuracy."
   ]
  },
  {
   "cell_type": "code",
   "execution_count": 186,
   "id": "15ef7fa7-8620-408e-835a-51b1814ef586",
   "metadata": {},
   "outputs": [],
   "source": [
    "list = []\n",
    "\n",
    "for d in range (5, 60):\n",
    "    model = DecisionTreeClassifier(max_depth = d)\n",
    "    model.fit(X_train, y_train)\n",
    "    y_exp = model.predict(X_test)\n",
    "\n",
    "    acc = accuracy_score(y_test, y_exp)\n",
    "    depth = model.get_depth()\n",
    "    list.append((d, acc))"
   ]
  },
  {
   "cell_type": "code",
   "execution_count": 187,
   "id": "98e149ad-31d5-423a-b8bf-f6238f444dfd",
   "metadata": {
    "scrolled": true
   },
   "outputs": [
    {
     "data": {
      "image/png": "[encoded data removed]",
      "text/plain": [
       "<Figure size 1200x600 with 1 Axes>"
      ]
     },
     "metadata": {},
     "output_type": "display_data"
    },
    {
     "name": "stdout",
     "output_type": "stream",
     "text": [
      "Best accuracy is:  0.9593301435406698\n",
      "It was received for max_depth =  32\n"
     ]
    }
   ],
   "source": [
    "#Visualising data\n",
    "\n",
    "depths = [x[0] for x in list]\n",
    "accs = [x[1] for x in list]\n",
    "\n",
    "plt.figure(figsize=(12, 6))  # Rozmiar wykresu\n",
    "plt.plot(depths, accs)\n",
    "\n",
    "plt.title('Accuracy vs max_depth in DecisionTreeClassifier')\n",
    "plt.xlabel('max_depth')\n",
    "plt.ylabel('Accuracy')\n",
    "\n",
    "plt.show()\n",
    "\n",
    "best_d = 0\n",
    "best_a = 0\n",
    "\n",
    "for d, a in list:\n",
    "    if a > best_a:\n",
    "        best_a = a\n",
    "        best_d = d\n",
    "\n",
    "print(\"Best accuracy is: \", best_a)\n",
    "print(\"It was received for max_depth = \", best_d)"
   ]
  },
  {
   "cell_type": "markdown",
   "id": "c7219931-4014-4b9c-acd0-f3abe0627d86",
   "metadata": {},
   "source": [
    "### Using RandomForestClassifier\n",
    "\n",
    "It creates not one, but a lot of decision trees - the risk of overfitting is lower, but needs more time."
   ]
  },
  {
   "cell_type": "code",
   "execution_count": 188,
   "id": "a17e42e8-4814-40db-9cd8-aa57865a8c57",
   "metadata": {},
   "outputs": [
    {
     "name": "stdout",
     "output_type": "stream",
     "text": [
      "Using decision tree classifier - results\n",
      "\n",
      "Accuracy:  0.9671052631578947\n",
      "Time of process:  0.029811620712280273\n"
     ]
    }
   ],
   "source": [
    "model = RandomForestClassifier()\n",
    "model.fit(X_train, y_train)\n",
    "\n",
    "start = time.time()\n",
    "y_exp = model.predict(X_test)\n",
    "end = time.time()\n",
    "\n",
    "time_3 = end-start\n",
    "acc_3 = accuracy_score(y_test, y_exp)\n",
    "\n",
    "print(\"Using decision tree classifier - results\\n\")\n",
    "print(\"Accuracy: \", acc_3)\n",
    "print(\"Time of process: \", time_3)"
   ]
  },
  {
   "cell_type": "markdown",
   "id": "13e6d028-3b43-44ec-96ad-173b8fe78e67",
   "metadata": {},
   "source": [
    "### Using AdaBoost and Logistic Regression\n",
    "\n",
    "Adaptive Boosting model creates lot of weak models and iterates through them to generate stronger model made of the best classifiers."
   ]
  },
  {
   "cell_type": "code",
   "execution_count": 189,
   "id": "e3623d1f-5e92-42e8-af65-2cfb370fbf24",
   "metadata": {
    "scrolled": true
   },
   "outputs": [
    {
     "name": "stdout",
     "output_type": "stream",
     "text": [
      "Using AdaBoost with logistic regression as base model - results\n",
      "\n",
      "Accuracy:  0.9730861244019139\n",
      "Time of process:  0.009899616241455078\n"
     ]
    }
   ],
   "source": [
    "base = LogisticRegression()\n",
    "model = AdaBoostClassifier(estimator = base, algorithm='SAMME')\n",
    "model.fit(X_train, y_train)\n",
    "\n",
    "start = time.time()\n",
    "y_exp = model.predict(X_test)\n",
    "end = time.time()\n",
    "\n",
    "time_4 = end-start\n",
    "acc_4 = accuracy_score(y_test, y_exp)\n",
    "\n",
    "print(\"Using AdaBoost with logistic regression as base model - results\\n\")\n",
    "print(\"Accuracy: \", acc_4)\n",
    "print(\"Time of process: \", time_4)"
   ]
  },
  {
   "cell_type": "markdown",
   "id": "caabdaca-3807-4811-82de-f6711bbf3816",
   "metadata": {},
   "source": [
    "### Using simple AdaBoost"
   ]
  },
  {
   "cell_type": "code",
   "execution_count": 190,
   "id": "0a47e6e0-3fd8-407d-a2bd-ceefcef03e89",
   "metadata": {},
   "outputs": [
    {
     "name": "stdout",
     "output_type": "stream",
     "text": [
      "Using simple AdaBoost - results\n",
      "\n",
      "Accuracy:  0.9491626794258373\n",
      "Time of process:  0.029386281967163086\n"
     ]
    }
   ],
   "source": [
    "model = AdaBoostClassifier(algorithm='SAMME')\n",
    "model.fit(X_train, y_train)\n",
    "\n",
    "start = time.time()\n",
    "y_exp = model.predict(X_test)\n",
    "end = time.time()\n",
    "\n",
    "time_5 = end-start\n",
    "acc_5 = accuracy_score(y_test, y_exp)\n",
    "\n",
    "print(\"Using simple AdaBoost - results\\n\")\n",
    "print(\"Accuracy: \", acc_5)\n",
    "print(\"Time of process: \", time_5)"
   ]
  },
  {
   "cell_type": "markdown",
   "id": "c636461f-d0c7-4118-b99a-92039461f0dc",
   "metadata": {},
   "source": [
    "### Using XGBoost\n",
    "\n",
    "XGBoost is gradient boosting technique which iteratively creates decision trees that minimalizes cost function."
   ]
  },
  {
   "cell_type": "code",
   "execution_count": 191,
   "id": "a210df3c-8379-439b-bf54-3a84b88b3337",
   "metadata": {},
   "outputs": [
    {
     "name": "stdout",
     "output_type": "stream",
     "text": [
      "Using XGBoost - results\n",
      "\n",
      "Accuracy:  0.9635167464114832\n",
      "Time of process:  0.0025489330291748047\n"
     ]
    }
   ],
   "source": [
    "#XGB expects binary values of both classes - 0 and 1 - so \"ham\" and \"spam\" needs to be encoded\n",
    "\n",
    "y_train_2 = np.where(y_train == 'ham', 0, 1)\n",
    "y_test_2 = np.where(y_test == 'ham', 0, 1)\n",
    "\n",
    "model = XGBClassifier()\n",
    "model.fit(X_train, y_train_2)\n",
    "\n",
    "start = time.time()\n",
    "y_exp_2 = model.predict(X_test)\n",
    "end = time.time()\n",
    "\n",
    "time_6 = end-start\n",
    "acc_6 = accuracy_score(y_test_2, y_exp_2)\n",
    "\n",
    "print(\"Using XGBoost - results\\n\")\n",
    "print(\"Accuracy: \", acc_6)\n",
    "print(\"Time of process: \", time_6)"
   ]
  },
  {
   "cell_type": "markdown",
   "id": "85c0b41c-359f-4af6-b8cf-25c9b9c8f386",
   "metadata": {},
   "source": [
    "### Comparision of different techniques"
   ]
  },
  {
   "cell_type": "code",
   "execution_count": 192,
   "id": "557b5dee-4f37-4d4a-8d09-4c23d3fbdd3f",
   "metadata": {},
   "outputs": [
    {
     "data": {
      "text/html": [
       "<div>\n",
       "<style scoped>\n",
       "    .dataframe tbody tr th:only-of-type {\n",
       "        vertical-align: middle;\n",
       "    }\n",
       "\n",
       "    .dataframe tbody tr th {\n",
       "        vertical-align: top;\n",
       "    }\n",
       "\n",
       "    .dataframe thead th {\n",
       "        text-align: right;\n",
       "    }\n",
       "</style>\n",
       "<table border=\"1\" class=\"dataframe\">\n",
       "  <thead>\n",
       "    <tr style=\"text-align: right;\">\n",
       "      <th></th>\n",
       "      <th>Classifier</th>\n",
       "      <th>Accuracy</th>\n",
       "      <th>Time</th>\n",
       "    </tr>\n",
       "  </thead>\n",
       "  <tbody>\n",
       "    <tr>\n",
       "      <th>0</th>\n",
       "      <td>Logistic Regression</td>\n",
       "      <td>0.963517</td>\n",
       "      <td>0.000662</td>\n",
       "    </tr>\n",
       "    <tr>\n",
       "      <th>1</th>\n",
       "      <td>DecisionTreeClassifier</td>\n",
       "      <td>0.957536</td>\n",
       "      <td>0.000855</td>\n",
       "    </tr>\n",
       "    <tr>\n",
       "      <th>2</th>\n",
       "      <td>RandomForestClassifier</td>\n",
       "      <td>0.967105</td>\n",
       "      <td>0.029812</td>\n",
       "    </tr>\n",
       "    <tr>\n",
       "      <th>3</th>\n",
       "      <td>AdaBoost with Logistic Regression</td>\n",
       "      <td>0.973086</td>\n",
       "      <td>0.009900</td>\n",
       "    </tr>\n",
       "    <tr>\n",
       "      <th>4</th>\n",
       "      <td>default AdaBoost</td>\n",
       "      <td>0.949163</td>\n",
       "      <td>0.029386</td>\n",
       "    </tr>\n",
       "    <tr>\n",
       "      <th>5</th>\n",
       "      <td>XGBoost</td>\n",
       "      <td>0.963517</td>\n",
       "      <td>0.002549</td>\n",
       "    </tr>\n",
       "  </tbody>\n",
       "</table>\n",
       "</div>"
      ],
      "text/plain": [
       "                          Classifier  Accuracy      Time\n",
       "0                Logistic Regression  0.963517  0.000662\n",
       "1             DecisionTreeClassifier  0.957536  0.000855\n",
       "2             RandomForestClassifier  0.967105  0.029812\n",
       "3  AdaBoost with Logistic Regression  0.973086  0.009900\n",
       "4                   default AdaBoost  0.949163  0.029386\n",
       "5                            XGBoost  0.963517  0.002549"
      ]
     },
     "execution_count": 192,
     "metadata": {},
     "output_type": "execute_result"
    }
   ],
   "source": [
    "results = {\n",
    "    'Classifier': ['Logistic Regression', 'DecisionTreeClassifier', 'RandomForestClassifier', 'AdaBoost with Logistic Regression', 'default AdaBoost', 'XGBoost'],\n",
    "    'Accuracy': [acc_1, acc_2, acc_3, acc_4, acc_5, acc_6],\n",
    "    'Time': [time_1, time_2, time_3, time_4, time_5, time_6]\n",
    "}\n",
    "\n",
    "df = pd.DataFrame(results)\n",
    "df"
   ]
  },
  {
   "cell_type": "markdown",
   "id": "10a449d3-b0e9-46ed-8599-c7a6550552a9",
   "metadata": {},
   "source": [
    "## Summarization\n",
    "\n",
    "After performing calculations with six different classifiers there could be a lot of observations:\n",
    "- the chosen dataset is rather simple - most of used models were able to predict results with good accuracy (> 95%)\n",
    "- one of the best results were achieved using **Random Forest Classifier**, but it took a lot of time\n",
    "- **Boosting** didn't help in improving models when it was using decision trees\n",
    "- combination of **Adaptive Boosting with logistic regression** resulted in the best accuracy\n",
    "- **Extreme Gradient Boosting** was much better than default Adaptive Boosting - quicker and more accurate\n",
    "\n",
    "Conclusions:\n",
    "- simple **logistic regression** appeared to be the best classifier for this dataset - probably beacuse of the linearity of the problem\n",
    "- it could be even improved by using **AdaBoosting** - but calculations lasts 10 times longer\n",
    "- if the dataset was different, f.e. not text-based, the results of the used classifiers would probably be completely different\n",
    "- we could see that sometimes the easiest option might be the best one"
   ]
  }
 ],
 "metadata": {
  "kernelspec": {
   "display_name": "Python 3 (ipykernel)",
   "language": "python",
   "name": "python3"
  },
  "language_info": {
   "codemirror_mode": {
    "name": "ipython",
    "version": 3
   },
   "file_extension": ".py",
   "mimetype": "text/x-python",
   "name": "python",
   "nbconvert_exporter": "python",
   "pygments_lexer": "ipython3",
   "version": "3.10.12"
  }
 },
 "nbformat": 4,
 "nbformat_minor": 5
}
